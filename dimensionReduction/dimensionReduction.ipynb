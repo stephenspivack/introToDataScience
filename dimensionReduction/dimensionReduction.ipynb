{
 "cells": [
  {
   "cell_type": "code",
   "execution_count": null,
   "metadata": {},
   "outputs": [],
   "source": [
    "# Dimension Reduction\n",
    "# Code by Pascal Wallisch and Stephen Spivack\n",
    "# Date: 11-30-21"
   ]
  },
  {
   "cell_type": "code",
   "execution_count": null,
   "metadata": {},
   "outputs": [],
   "source": [
    "# In this lab, we will illustrate dimension reduction principles with a \n",
    "# toy - but real - example. Both in terms of use case and data.\n",
    "\n",
    "# Example: Real student evaluation data from an NYU Department in the last year.\n",
    "\n",
    "# Issue: We ask students a lot of questions per class. Many don't respond, so the\n",
    "# response rate is low. This is a problem due to representativeness concerns. \n",
    "\n",
    "# Suspicion: It is low because a typical student has to answer close to a hundred \n",
    "# questions per semester if they take a handful of classes. \n",
    "\n",
    "# Question: Can we reduce the number of questions we ask? "
   ]
  },
  {
   "cell_type": "code",
   "execution_count": 1,
   "metadata": {},
   "outputs": [],
   "source": [
    "# 0. Load libraries/packages\n",
    "import numpy as np\n",
    "import pandas as pd\n",
    "import matplotlib.pyplot as plt\n",
    "from scipy import stats\n",
    "from sklearn.decomposition import PCA"
   ]
  },
  {
   "cell_type": "code",
   "execution_count": 2,
   "metadata": {},
   "outputs": [
    {
     "name": "stdout",
     "output_type": "stream",
     "text": [
      "[['Overall evaluation of the instructor(s).']\n",
      " ['Overall evaluation of the course.']\n",
      " ['The instructor(s) provided an environment that was conducive to learning.']\n",
      " ['The instructor(s) provided helpful feedback on assessed class components (e.g., exams, papers).']\n",
      " ['The course objectives were clearly stated.']\n",
      " ['The course was well organized.']\n",
      " ['The course was intellectually stimulating.']\n",
      " ['The course was effective at helping me learn.']\n",
      " ['The classes were informative.']\n",
      " ['The course was challenging.']\n",
      " ['The course increased my knowledge of the subject.']\n",
      " ['The instructor was effective at helping me learn.']\n",
      " ['The instructor encouraged student participation.']\n",
      " ['The instructor was effective at facilitating class discussion.']\n",
      " ['The instructor was open to studentsÕ questions and multiple points of view.']\n",
      " ['The instructor was accessible to students (e.g., via e-mail and office hours).']\n",
      " ['The instructor created an environment that promoted the success of students with  diverse backgrounds and experiences.']]\n"
     ]
    }
   ],
   "source": [
    "# 1a. Load course evaluation questions\n",
    "\n",
    "# Load questions into dataframe (Latin-1 encoding = every character fits into a byte):\n",
    "questions = pd.read_csv('evaluationQuestions.csv', encoding='latin-1', header=None)\n",
    "\n",
    "# Display the questions:\n",
    "print(questions.values)"
   ]
  },
  {
   "cell_type": "code",
   "execution_count": null,
   "metadata": {},
   "outputs": [],
   "source": [
    "# Looking at this, we can confirm that we ask a lot of these students.\n",
    "# For instance, we ask both about the course and the instructor.\n",
    "# Whether the students differentiate is an empirical question. \n",
    "# If they do, we should expect 2 factors, and if they don't, we shouldn't. "
   ]
  },
  {
   "cell_type": "code",
   "execution_count": 3,
   "metadata": {},
   "outputs": [
    {
     "data": {
      "text/plain": [
       "(40, 17)"
      ]
     },
     "execution_count": 3,
     "metadata": {},
     "output_type": "execute_result"
    }
   ],
   "source": [
    "# 1b. Load course evaluation data\n",
    "data = np.genfromtxt('courseEvaluationData.csv', delimiter=',')\n",
    "\n",
    "# We have data from 40 courses and 17 measures (variables) per course\n",
    "data.shape "
   ]
  },
  {
   "cell_type": "code",
   "execution_count": 4,
   "metadata": {},
   "outputs": [
    {
     "data": {
      "image/png": "[encoded data removed]",
      "text/plain": [
       "<Figure size 432x288 with 2 Axes>"
      ]
     },
     "metadata": {
      "needs_background": "light"
     },
     "output_type": "display_data"
    }
   ],
   "source": [
    "# 2. Looking at the raw data (Exploratory data analysis)\n",
    "plt.imshow(data) # Display an image, i.e. data, on a 2D regular raster.\n",
    "plt.xlabel('Question')\n",
    "plt.ylabel('Course')\n",
    "plt.colorbar()\n",
    "plt.show() "
   ]
  },
  {
   "cell_type": "code",
   "execution_count": null,
   "metadata": {},
   "outputs": [],
   "source": [
    "# Some observations:\n",
    "\n",
    "# 1) There is a lot of variability. This is a good thing. No variability --> Fail\n",
    "\n",
    "# 2) We note that there are some courses (e.g. #7 or #35) where there is very\n",
    "# little variability. Those happen to be courses with very low enrollment,\n",
    "# so there isn't enough data (as per CLT) to be useful. We should probably\n",
    "# exclude them. For now, we'll keep them."
   ]
  },
  {
   "cell_type": "code",
   "execution_count": 5,
   "metadata": {},
   "outputs": [
    {
     "data": {
      "image/png": "[encoded data removed]",
      "text/plain": [
       "<Figure size 432x288 with 2 Axes>"
      ]
     },
     "metadata": {
      "needs_background": "light"
     },
     "output_type": "display_data"
    }
   ],
   "source": [
    "# 3. Compute and visualize the correlation matrix\n",
    "\n",
    "# The reason this matters is so you can evalute the output of the PCA.\n",
    "# Nothing in the PCA will not already be foreshadowed by this. \n",
    "# If there are clusters in the data here, there will be factors in the PCA\n",
    "\n",
    "# Compute correlation between each measure across all courses:\n",
    "# True = variables are rowwise; False = variables are columnwise\n",
    "corrMatrix = np.corrcoef(data,rowvar=False) \n",
    "\n",
    "# Plot the data:\n",
    "plt.imshow(corrMatrix) \n",
    "plt.xlabel('Question')\n",
    "plt.ylabel('Question')\n",
    "plt.colorbar()\n",
    "plt.show()"
   ]
  },
  {
   "cell_type": "code",
   "execution_count": null,
   "metadata": {},
   "outputs": [],
   "source": [
    "# Observation 1: Most variables are very highly correlated with each other\n",
    "# Observation 2: There is probably going to be a 2nd factor, but that one\n",
    "# will be very narrow, basically question 10\n",
    "# Observation 3: There might be a 3rd factor, but it's not as clear, around\n",
    "# question 6"
   ]
  },
  {
   "cell_type": "code",
   "execution_count": 6,
   "metadata": {},
   "outputs": [
    {
     "name": "stdout",
     "output_type": "stream",
     "text": [
      "79.788\n",
      "6.856\n",
      "5.246\n",
      "2.388\n",
      "1.664\n",
      "1.073\n",
      "0.765\n",
      "0.527\n",
      "0.428\n",
      "0.345\n",
      "0.245\n",
      "0.203\n",
      "0.135\n",
      "0.125\n",
      "0.106\n",
      "0.066\n",
      "0.041\n"
     ]
    }
   ],
   "source": [
    "# 4. Run the PCA\n",
    "\n",
    "# You're in luck! There is a function that does it all in one.\n",
    "# You will also learn that most machine learning algorithms can be\n",
    "# implemented using scikit-learn: https://scikit-learn.org/stable/\n",
    "# The catch here: PCA expects normally distributed DATA\n",
    "# So that is why we z-score the data first\n",
    "\n",
    "# 1. Z-score the data:\n",
    "zscoredData = stats.zscore(data)\n",
    "\n",
    "# 2. Initialize PCA object and fit to our data:\n",
    "pca = PCA().fit(zscoredData)\n",
    "\n",
    "# 3a. Eigenvalues: Single vector of eigenvalues in decreasing order of magnitude\n",
    "eigVals = pca.explained_variance_\n",
    "\n",
    "# 3b. Loadings (eigenvectors): Weights per factor in terms of the original data. Where do the\n",
    "# principal components point, in terms of the 17 questions?\n",
    "loadings = pca.components_\n",
    "\n",
    "# 3c. Rotated Data: Simply the transformed data - we had 40 courses (rows) in\n",
    "# terms of 17 variables (columns), now we have 40 courses in terms of 17\n",
    "# factors ordered by decreasing eigenvalue\n",
    "rotatedData = pca.fit_transform(zscoredData)\n",
    "\n",
    "# 4. For the purposes of this, you can think of eigenvalues in terms of \n",
    "# (co)variance explained:\n",
    "covarExplained = eigVals/sum(eigVals)*100\n",
    "\n",
    "# Now let's display this for each factor:\n",
    "for ii in range(len(covarExplained)):\n",
    "    print(covarExplained[ii].round(3))"
   ]
  },
  {
   "cell_type": "code",
   "execution_count": null,
   "metadata": {},
   "outputs": [],
   "source": [
    "# We note that there is a single factor (!) - something like class quality \n",
    "# or overall experience - that explains most (~80%) of the data."
   ]
  },
  {
   "cell_type": "code",
   "execution_count": 7,
   "metadata": {},
   "outputs": [
    {
     "data": {
      "image/png": "[encoded data removed]",
      "text/plain": [
       "<Figure size 432x288 with 1 Axes>"
      ]
     },
     "metadata": {
      "needs_background": "light"
     },
     "output_type": "display_data"
    }
   ],
   "source": [
    "# 5. Scree plot\n",
    "\n",
    "# It is up to the researcher how many factors to interpret meaningfully.\n",
    "# All dimension reduction methods are exhaustive, i.e. if you put 17\n",
    "# variables in, you get 17 factors back. If you put 100 variables in, you\n",
    "# get 100 factors back. But these are not all created equal. Some explain a\n",
    "# lot more of the covariability than others. \n",
    "\n",
    "# What a scree plot is: Plotting a bar graph of the sorted Eigenvalues\n",
    "numClasses = 17\n",
    "x = np.linspace(1,numClasses,numClasses)\n",
    "plt.bar(x, eigVals, color='gray')\n",
    "plt.plot([0,numClasses],[1,1],color='orange') # Orange Kaiser criterion line for the fox\n",
    "plt.xlabel('Principal component')\n",
    "plt.ylabel('Eigenvalue')\n",
    "plt.show()"
   ]
  },
  {
   "cell_type": "code",
   "execution_count": 8,
   "metadata": {},
   "outputs": [
    {
     "name": "stdout",
     "output_type": "stream",
     "text": [
      "Number of factors selected by Kaiser criterion: 2\n",
      "Number of factors selected by elbow criterion: 1\n",
      "Number of factors to account for at least 90% variance: 3\n"
     ]
    }
   ],
   "source": [
    "# 6. There are 4 criteria by which people commonly pick the number of factors\n",
    "# they interpret meaningfully:\n",
    "\n",
    "# 1) Kaiser criterion: Keep all factors with an eigenvalue > 1\n",
    "# Rationale: Each variable adds 1 to the sum of eigenvalues. The eigensum. \n",
    "# We expect each factor to explain at least as much as it adds to what needs\n",
    "# to be explained. The factors have to carry their weight.\n",
    "# By this criterion, we would report 2 meaningful factors. Generally speaking, this is\n",
    "# a liberal criterion. You will end up with many factors, using this\n",
    "# criterion. If you put in 256 EEG channels, 10 factors might exceed this threshold. \n",
    "threshold = 1\n",
    "print('Number of factors selected by Kaiser criterion:', np.count_nonzero(eigVals > threshold))\n",
    "\n",
    "# 2) The \"elbow\" criterion: Pick only factors left of the biggest/sharpest\n",
    "# drop. Here, this would yield 1 factor.\n",
    "print('Number of factors selected by elbow criterion: 1')\n",
    "\n",
    "# 3) Number of factors that account for 90% of the variance (Eigenvalues that \n",
    "# add up to 90% of the Eigensum. To account for at least 90% of the variability \n",
    "# in this data, we need 3 factors.\n",
    "threshold = 90\n",
    "eigSum = np.cumsum(covarExplained)\n",
    "print('Number of factors to account for at least 90% variance:', np.count_nonzero(eigSum < threshold) + 1)\n",
    "\n",
    "# 4) \"Horn's method\". Simulate noise distributions to see which factors exceed\n",
    "# what you would expect from noise. Resampling/Bootstrap-based. This is \n",
    "# explained in the Neural Data Science book, in the PCA chapter. "
   ]
  },
  {
   "cell_type": "code",
   "execution_count": 9,
   "metadata": {},
   "outputs": [
    {
     "data": {
      "image/png": "[encoded data removed]",
      "text/plain": [
       "<Figure size 432x288 with 1 Axes>"
      ]
     },
     "metadata": {
      "needs_background": "light"
     },
     "output_type": "display_data"
    }
   ],
   "source": [
    "# Horn's parallel method (Horn, 1965) \n",
    "# As described on page 239 of the Neural Data Science book\n",
    "\n",
    "# Remember: This method compares the eigenvalues generated from the data to the \n",
    "# eigenvalues generated from random sata - in this case, drawn randomly from a \n",
    "# standard normal distribution - of the same size.\n",
    "\n",
    "# Initialize variables:\n",
    "numDraws = int(1e4) # How many repetitions per resampling?\n",
    "numRows = np.size(zscoredData,axis=0) # How many rows to recreate the dimensionality of the original data?\n",
    "numColumns = np.size(zscoredData,axis=1) # How many columns to recreate the dimensionality of the original data?\n",
    "eigSata = np.empty([numDraws,numColumns])*np.NaN # Initialize array to keep eigenvalues of sata\n",
    "\n",
    "# Simulate null distribution of eigenvalues:\n",
    "for ii in range(numDraws):\n",
    "    # Randomly draw the sata from a standard normal distribution:\n",
    "    sata = np.random.normal(0,1,[numRows,numColumns]) \n",
    "    # Run the PCA on the sata:\n",
    "    pca = PCA().fit(sata)\n",
    "    # Keep the eigenvalues:\n",
    "    temp = pca.explained_variance_\n",
    "    eigSata[ii] = temp\n",
    "    \n",
    "# That was fast. And we did it 10,000 times. I bet Horn would have loved to\n",
    "# do that. He had to wait months for something like this.\n",
    "\n",
    "# Make a plot of that and superimpose the real data on top of the sata:\n",
    "plt.plot(x,eigVals,color='blue') # plot eigVals from our PCA\n",
    "plt.plot(x,np.transpose(eigSata),color='black') # plot eigVals from eigSata\n",
    "plt.plot([1,numColumns],[1,1],color='orange') # Kaiser criterion line\n",
    "plt.xlabel('Principal component (SATA)')\n",
    "plt.ylabel('Eigenvalue of SATA')\n",
    "plt.legend(['data','sata'])\n",
    "plt.show()"
   ]
  },
  {
   "cell_type": "code",
   "execution_count": null,
   "metadata": {},
   "outputs": [],
   "source": [
    "# By this method, as you can see, only the first factor exceeds the noise\n",
    "# distribution. If you want to be fancy, calculate the empirical confidence\n",
    "# interval of the 10,000 SATA eigenfactors and note the empirical values that exceed it "
   ]
  },
  {
   "cell_type": "code",
   "execution_count": 10,
   "metadata": {},
   "outputs": [
    {
     "data": {
      "image/png": "[encoded data removed]",
      "text/plain": [
       "<Figure size 432x288 with 1 Axes>"
      ]
     },
     "metadata": {
      "needs_background": "light"
     },
     "output_type": "display_data"
    },
    {
     "name": "stdout",
     "output_type": "stream",
     "text": [
      "[['Overall evaluation of the instructor(s).']\n",
      " ['Overall evaluation of the course.']\n",
      " ['The instructor(s) provided an environment that was conducive to learning.']\n",
      " ['The instructor(s) provided helpful feedback on assessed class components (e.g., exams, papers).']\n",
      " ['The course objectives were clearly stated.']\n",
      " ['The course was well organized.']\n",
      " ['The course was intellectually stimulating.']\n",
      " ['The course was effective at helping me learn.']\n",
      " ['The classes were informative.']\n",
      " ['The course was challenging.']\n",
      " ['The course increased my knowledge of the subject.']\n",
      " ['The instructor was effective at helping me learn.']\n",
      " ['The instructor encouraged student participation.']\n",
      " ['The instructor was effective at facilitating class discussion.']\n",
      " ['The instructor was open to studentsÕ questions and multiple points of view.']\n",
      " ['The instructor was accessible to students (e.g., via e-mail and office hours).']\n",
      " ['The instructor created an environment that promoted the success of students with  diverse backgrounds and experiences.']]\n"
     ]
    }
   ],
   "source": [
    "# 7. Interpreting the factors \n",
    "\n",
    "# Now that we realize that 1, 2 or 3 are reasonable solutions to the course\n",
    "# evaluation issue, we have to interpret the factors.\n",
    "# This is perhaps where researchers have the most leeway.\n",
    "# You do this - in principle - by looking at the loadings.\n",
    "# In which direction does the factor point? \n",
    "\n",
    "whichPrincipalComponent = 2 # Select and look at one factor at a time \n",
    "plt.bar(x,loadings[whichPrincipalComponent,:]*-1) # note: eigVecs multiplied by -1\n",
    "plt.xlabel('Question')\n",
    "plt.ylabel('Loading')\n",
    "plt.show() # Show bar plot\n",
    "print(questions.values) # Display questions"
   ]
  },
  {
   "cell_type": "code",
   "execution_count": null,
   "metadata": {},
   "outputs": [],
   "source": [
    "# PC1: The first one accounts for almost everything, so it will probably point \n",
    "# in all directions at once - overall course quality?\n",
    "# PC2: Challenging/informative - how much information?\n",
    "# PC3: Organization/clarity: Pointing to 6 and 5, and away from 16 - structure?\n",
    "\n",
    "# General principle: Looking at the highest loadings (positive or negative)\n",
    "# and looking for commonalities."
   ]
  },
  {
   "cell_type": "code",
   "execution_count": 11,
   "metadata": {},
   "outputs": [
    {
     "data": {
      "image/png": "[encoded data removed]",
      "text/plain": [
       "<Figure size 432x288 with 1 Axes>"
      ]
     },
     "metadata": {
      "needs_background": "light"
     },
     "output_type": "display_data"
    }
   ],
   "source": [
    "# 8. Visualize our data in the new coordinate system\n",
    "\n",
    "# For instance, let's say the school wants to figure out which courses are\n",
    "# good or needlessly hard, we can now look at that\n",
    "\n",
    "plt.plot(rotatedData[:,0]*-1,rotatedData[:,1]*-1,'o',markersize=5)\n",
    "plt.xlabel('Overall course quality')\n",
    "plt.ylabel('Hardness of course')\n",
    "plt.show()"
   ]
  },
  {
   "cell_type": "code",
   "execution_count": null,
   "metadata": {},
   "outputs": [],
   "source": [
    "# In this sense, PCA can help in decision making - are there some classes\n",
    "# that are under/over-performing, given their characteristics?\n",
    "# If we had more than 40 courses, looking at the 3rd dimension would be\n",
    "# interesting too. As is, it is a bit sparse."
   ]
  }
 ],
 "metadata": {
  "kernelspec": {
   "display_name": "Python 3",
   "language": "python",
   "name": "python3"
  },
  "language_info": {
   "codemirror_mode": {
    "name": "ipython",
    "version": 3
   },
   "file_extension": ".py",
   "mimetype": "text/x-python",
   "name": "python",
   "nbconvert_exporter": "python",
   "pygments_lexer": "ipython3",
   "version": "3.8.3"
  }
 },
 "nbformat": 4,
 "nbformat_minor": 4
}
