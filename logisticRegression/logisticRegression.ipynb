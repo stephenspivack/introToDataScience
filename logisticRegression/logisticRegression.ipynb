{
 "cells": [
  {
   "cell_type": "code",
   "execution_count": null,
   "metadata": {},
   "outputs": [],
   "source": [
    "# Logistic Regression\n",
    "# Code by Pascal Wallisch and Stephen Spivack\n",
    "# Date: 11-30-21"
   ]
  },
  {
   "cell_type": "code",
   "execution_count": null,
   "metadata": {},
   "outputs": [],
   "source": [
    "# In this lab, we want to use logistic regression to predict whether a\n",
    "# given applicant will be admitted to grad school based on their GRE score.\n",
    "\n",
    "# Of course, there are other factors that determine whether someone will\n",
    "# be admited, but here we want to use GRE scores as the single predictor \n",
    "# for our binary outcome--whether that person will be accepted."
   ]
  },
  {
   "cell_type": "code",
   "execution_count": 1,
   "metadata": {},
   "outputs": [],
   "source": [
    "# Load data:\n",
    "import numpy as np\n",
    "data = np.genfromtxt('greData.csv',delimiter=',')"
   ]
  },
  {
   "cell_type": "code",
   "execution_count": 2,
   "metadata": {},
   "outputs": [
    {
     "name": "stdout",
     "output_type": "stream",
     "text": [
      "First 10 rows out of 500 total:\n",
      "[[289.   0.]\n",
      " [292.   0.]\n",
      " [325.   1.]\n",
      " [331.   1.]\n",
      " [329.   0.]\n",
      " [278.   0.]\n",
      " [308.   0.]\n",
      " [321.   0.]\n",
      " [319.   0.]\n",
      " [322.   1.]]\n"
     ]
    }
   ],
   "source": [
    "# Inspect data:\n",
    "print('First 10 rows out of',len(data),'total:')\n",
    "print(data[:10])\n",
    "\n",
    "# Each row is a given applicant. The first column is their GRE score and\n",
    "# the second column is whether they got accepted into the grad program."
   ]
  },
  {
   "cell_type": "code",
   "execution_count": 3,
   "metadata": {},
   "outputs": [
    {
     "name": "stdout",
     "output_type": "stream",
     "text": [
      "Number of admitted students: 150\n",
      "Avg admitted score: 320.053\n",
      "Std admitted score: 8.538\n"
     ]
    }
   ],
   "source": [
    "# Admitted students descriptives:\n",
    "numAdmitted = len(np.argwhere(data[:,1]==1))\n",
    "avgAdmissionScore = np.mean(data[np.argwhere(data[:,1]==1),0])\n",
    "admissionStd = np.std(data[np.argwhere(data[:,1]==1),0])\n",
    "print('Number of admitted students:',numAdmitted)\n",
    "print('Avg admitted score:',avgAdmissionScore.round(3))\n",
    "print('Std admitted score:',admissionStd.round(3))"
   ]
  },
  {
   "cell_type": "code",
   "execution_count": 4,
   "metadata": {},
   "outputs": [
    {
     "name": "stdout",
     "output_type": "stream",
     "text": [
      "Number of rejected students: 350\n",
      "Avg rejected score: 296.317\n",
      "Std rejected score: 12.486\n"
     ]
    }
   ],
   "source": [
    "# Rejected students descriptives:\n",
    "numRejected = len(np.argwhere(data[:,1]==0))\n",
    "avgRejectionScore = np.mean(data[np.argwhere(data[:,1]==0),0])\n",
    "rejectionStd = np.std(data[np.argwhere(data[:,1]==0),0])\n",
    "print('Number of rejected students:',numRejected)\n",
    "print('Avg rejected score:',avgRejectionScore.round(3))\n",
    "print('Std rejected score:',rejectionStd.round(3))"
   ]
  },
  {
   "cell_type": "code",
   "execution_count": 5,
   "metadata": {},
   "outputs": [
    {
     "data": {
      "image/png": "[encoded data removed]",
      "text/plain": [
       "<Figure size 432x288 with 1 Axes>"
      ]
     },
     "metadata": {
      "needs_background": "light"
     },
     "output_type": "display_data"
    }
   ],
   "source": [
    "# Plot data:\n",
    "import matplotlib.pyplot as plt\n",
    "plt.scatter(data[:,0],data[:,1],color='black')\n",
    "lowerBound,upperBound = 260,345\n",
    "plt.xlabel('GRE score')\n",
    "plt.xlim([lowerBound,upperBound])\n",
    "plt.ylabel('Admitted?')\n",
    "plt.yticks(np.array([0,1]))\n",
    "plt.show()"
   ]
  },
  {
   "cell_type": "code",
   "execution_count": 6,
   "metadata": {},
   "outputs": [],
   "source": [
    "# Run the logistic regression\n",
    "\n",
    "# Import logisitic regression function:\n",
    "from sklearn.linear_model import LogisticRegression\n",
    "\n",
    "# Format data for our model:\n",
    "x = data[:,0].reshape(len(data),1) \n",
    "y = data[:,1]\n",
    "\n",
    "# Fit our model to the data:\n",
    "model = LogisticRegression().fit(x,y)"
   ]
  },
  {
   "cell_type": "code",
   "execution_count": 7,
   "metadata": {},
   "outputs": [
    {
     "data": {
      "image/png": "[encoded data removed]",
      "text/plain": [
       "<Figure size 432x288 with 1 Axes>"
      ]
     },
     "metadata": {
      "needs_background": "light"
     },
     "output_type": "display_data"
    }
   ],
   "source": [
    "# Plot the data\n",
    "\n",
    "# Init data:\n",
    "from scipy.special import expit # this is the logistic sigmoid function\n",
    "x1 = np.linspace(lowerBound,upperBound,len(data))\n",
    "y1 = x1 * model.coef_ + model.intercept_\n",
    "sigmoid = expit(y1)\n",
    "\n",
    "# Plot:\n",
    "plt.plot(x1,sigmoid.ravel(),color='red',linewidth=3)\n",
    "plt.scatter(data[:,0],data[:,1],color='black')\n",
    "plt.hlines(0.5,lowerBound,upperBound,colors='gray',linestyles='dotted')\n",
    "plt.xlabel('GRE score')\n",
    "plt.xlim([lowerBound,upperBound])\n",
    "plt.ylabel('Admitted?')\n",
    "plt.yticks(np.array([0,1]))\n",
    "plt.show()"
   ]
  },
  {
   "cell_type": "code",
   "execution_count": 8,
   "metadata": {},
   "outputs": [
    {
     "name": "stdout",
     "output_type": "stream",
     "text": [
      "Probability of getting accepted: 0.547\n"
     ]
    }
   ],
   "source": [
    "# Use our model to make predictions:\n",
    "testScore = 315\n",
    "probGettingIn = sigmoid[0,np.abs(x1-testScore).argmin()]\n",
    "print('Probability of getting accepted:',probGettingIn.round(3))"
   ]
  }
 ],
 "metadata": {
  "kernelspec": {
   "display_name": "Python 3",
   "language": "python",
   "name": "python3"
  },
  "language_info": {
   "codemirror_mode": {
    "name": "ipython",
    "version": 3
   },
   "file_extension": ".py",
   "mimetype": "text/x-python",
   "name": "python",
   "nbconvert_exporter": "python",
   "pygments_lexer": "ipython3",
   "version": "3.8.3"
  }
 },
 "nbformat": 4,
 "nbformat_minor": 4
}
